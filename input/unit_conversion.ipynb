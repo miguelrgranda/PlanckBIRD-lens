{
 "cells": [
  {
   "cell_type": "markdown",
   "metadata": {},
   "source": [
    "# UNIT CONVERSION PLANCK AND LITEBIRD EXPERIMENTS"
   ]
  },
  {
   "cell_type": "code",
   "execution_count": null,
   "metadata": {},
   "outputs": [],
   "source": [
    "import numpy as np\n",
    "from astropy import units as u\n",
    "from astropy.cosmology import Planck18"
   ]
  },
  {
   "cell_type": "code",
   "execution_count": null,
   "metadata": {},
   "outputs": [],
   "source": [
    "# Litebird in uK arcmin\n",
    "depth_p = [37.42, 33.46,  21.31, 19.91, 31.77, 15.55, 19.13, 12.28, 28.77,  10.34,  8.48,   7.69,   5.70,  7.25, 6.38,  5.57,  7.05,  10.50, 10.79,  13.8, 21.95, 47.45]\n",
    "depth_i = np.round(depth_p/np.sqrt(2), 2)\n",
    "print(depth_i)"
   ]
  },
  {
   "cell_type": "code",
   "execution_count": null,
   "metadata": {},
   "outputs": [],
   "source": [
    "# Planck in uK arcmin\n",
    "frequency = [28.4,  44.1,  70.4,  100,  143,  217,  353]\n",
    "depth_i = np.array([2.5, 2.7, 3.5, 1.29, 0.55, 0.78, 2.56])*60 # convert from uK deg to uK arcmin\n",
    "depth_p = np.array([3.5, 4.0, 5.0, 1.96, 1.17, 1.75, 7.31])*60 # convert from uK deg to uK arcmin\n",
    "print('frequency = ', frequency)\n",
    "print('depth_i = ', depth_i)\n",
    "print('depth_p = ', depth_p)"
   ]
  },
  {
   "cell_type": "code",
   "execution_count": null,
   "metadata": {},
   "outputs": [],
   "source": [
    "frequency = [545,  857] * u.GHz\n",
    "depth_i = np.array([0.78, 0.72])*u.kJy*u.deg/u.sr \n",
    "equiv = u.thermodynamic_temperature(frequency, Planck18.Tcmb0)\n",
    "kJy2uK = (1 * u.kJy/u.sr).to(u.uK, equivalencies=equiv)\n",
    "kJydeg2uKarcmin = (kJy2uK*u.deg).to(u.uK*u.arcmin)/(u.kJy*u.deg/u.sr)\n",
    "print('kJydeg2uKarcmin = ', kJydeg2uKarcmin)\n",
    "depth_i = depth_i*kJydeg2uKarcmin\n",
    "print('frequency = ', frequency)\n",
    "print('depth_i = ', depth_i)"
   ]
  }
 ],
 "metadata": {
  "kernelspec": {
   "display_name": "Python 3 (ipykernel)",
   "language": "python",
   "name": "python3"
  },
  "language_info": {
   "codemirror_mode": {
    "name": "ipython",
    "version": 3
   },
   "file_extension": ".py",
   "mimetype": "text/x-python",
   "name": "python",
   "nbconvert_exporter": "python",
   "pygments_lexer": "ipython3",
   "version": "3.10.12"
  }
 },
 "nbformat": 4,
 "nbformat_minor": 2
}
