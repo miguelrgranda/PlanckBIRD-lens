{
 "cells": [
  {
   "cell_type": "markdown",
   "id": "c8a4a9a8",
   "metadata": {},
   "source": [
    "# Harmonic filtering performance"
   ]
  },
  {
   "cell_type": "code",
   "execution_count": 12,
   "id": "73b4b6af",
   "metadata": {},
   "outputs": [],
   "source": [
    "import numpy as np\n",
    "# %matplotlib widget\n",
    "import matplotlib.pyplot as plt\n",
    "import matplotlib as mpl\n",
    "\n",
    "plt.rcParams.update({\"text.usetex\": True, \"font.family\": \"Helvetica\"})\n",
    "plt.rcParams['mathtext.fontset'] = 'stix'\n",
    "plt.rcParams['font.family'] = 'STIXGeneral'\n",
    "plt.rcParams['lines.linewidth'] = 2.0\n",
    "\n",
    "# Set global font sizes\n",
    "mpl.rcParams['axes.labelsize'] = 24         # x/y label size\n",
    "mpl.rcParams['axes.titlesize'] = 18         # subplot title size\n",
    "mpl.rcParams['xtick.labelsize'] = 18        # tick labels\n",
    "mpl.rcParams['ytick.labelsize'] = 18\n",
    "mpl.rcParams['legend.fontsize'] = 22        # legend text\n",
    "mpl.rcParams['figure.titlesize'] = 20       # optional for fig.suptitle()\n",
    "import pickle as pl\n",
    "from sqlalchemy import create_engine\n",
    "import healpy as hp\n",
    "from tqdm import tqdm\n",
    "from astropy.io import ascii\n",
    "\n",
    "# CHANGE THIS PATH IN ORDER TO MATCH THE PATH OF YOUR PACKAGE\n",
    "PATH_PACKAGE = '/home/miguel/Desktop/PlanckBIRD-lens'"
   ]
  },
  {
   "cell_type": "code",
   "execution_count": 13,
   "id": "ec5c29f4",
   "metadata": {},
   "outputs": [],
   "source": [
    "Nsim = 400\n",
    "Nsim_MF = 100\n",
    "lmax_LB = 1000\n",
    "lmax_P = 2048\n",
    "L_LB = np.arange(lmax_LB + 1)\n",
    "factor_L_LB = (L_LB*(L_LB+1))**2/(2*np.pi)\n",
    "L_P = np.arange(lmax_P + 1)\n",
    "factor_L_P = (L_P*(L_P+1))**2/(2*np.pi)\n",
    "qe_list = ['TT', 'TE', 'EE', 'TB', 'EB']\n",
    "qe_list_MV = qe_list + ['MV']\n",
    "auto_spectra_qe = [x + y for x, y in zip(qe_list_MV, qe_list_MV)]\n",
    "noise_pairs = ['TTTT', 'TTTE', 'TTEE', 'TETE', 'TEEE', 'EEEE', 'TBTB', 'TBEB', 'EBEB']\n",
    "noise_pairs_2 = ['TTTE', 'TTEE', 'TEEE', 'TBEB']\n",
    "\n",
    "pairs = []\n",
    "for i in range(len(qe_list)):\n",
    "    for j in range(i, len(qe_list)):\n",
    "        pairs.append(qe_list[i] + qe_list[j])\n",
    "pairs_no_MV = list(pairs)\n",
    "pairs.append('MVMV')\n",
    "# Values of fsky, w2 and w4 for Planck's 80 % mask with an apodization scale of 2 degrees.\n",
    "fsky = 0.7990690867106119\n",
    "w2_LB = 0.7782862278400908\n",
    "w4_LB = 0.7752966348731124\n",
    "w2_P = 0.6788767002202918\n",
    "w4_P = 0.6758500017222131"
   ]
  },
  {
   "cell_type": "code",
   "execution_count": 14,
   "id": "8d0ad588",
   "metadata": {},
   "outputs": [],
   "source": [
    "fd_filt = f'{PATH_PACKAGE}/data/mean_spectra_filtered'\n",
    "fd_HILC = f'{PATH_PACKAGE}/data/mean_spectra_HILC'\n",
    "mean_filtered_full_sky = pl.load(open(f\"{fd_HILC}/mean_signal_noise_LiteBIRD_no_fg_chance_False_mask_False_400.pkl\",'rb'))\n",
    "mean_cls_filtered = pl.load(open(f\"{fd_filt}/mean_cls_wiener_filtered_TEB_no_fg_LiteBIRD_fsky_0.8.pkl\",'rb'))"
   ]
  },
  {
   "cell_type": "code",
   "execution_count": 15,
   "id": "15f657f1",
   "metadata": {
    "scrolled": false
   },
   "outputs": [
    {
     "name": "stderr",
     "output_type": "stream",
     "text": [
      "/tmp/ipykernel_7580/2753781015.py:48: UserWarning: This figure was using constrained_layout, but that is incompatible with subplots_adjust and/or tight_layout; disabling constrained_layout.\n",
      "  plt.tight_layout()\n"
     ]
    },
    {
     "data": {
      "image/png": "[encoded data removed]",
      "text/plain": [
       "<Figure size 1080x360 with 3 Axes>"
      ]
     },
     "metadata": {
      "needs_background": "light"
     },
     "output_type": "display_data"
    }
   ],
   "source": [
    "# Low complexity\n",
    "fg_index = 1\n",
    "\n",
    "fig, axes = plt.subplots(1, 3, figsize=(15, 5), constrained_layout=True)  # Three columns\n",
    "\n",
    "# First subplot\n",
    "ax = axes[0]\n",
    "ax.axhline(y=w2_LB, linestyle='dashed', c='k', label='$f_{\\mathrm{sky},2}$')\n",
    "ax.plot(mean_filtered_full_sky[0]*mean_cls_filtered[0], label='\\\\textit{TT}')\n",
    "ax.set_xlim([2, lmax_LB])\n",
    "ax.set_ylim([0.4, 1.2])\n",
    "ax.set_xlabel(r'$\\ell$')\n",
    "ax.set_ylabel(r'$\\langle C_\\ell^{\\rm CI, mask}\\rangle /\\langle C_\\ell^{\\rm CI, full-sky}\\rangle$')\n",
    "ax.tick_params(axis='both', which='major')\n",
    "ax.tick_params(axis='both', which='minor')\n",
    "ax.set_xscale('linear')\n",
    "# ax.set_yscale('log')\n",
    "ax.legend(ncol=1, loc='upper right')\n",
    "# ax.set_title(\"Planck Low complexity\", size=22)\n",
    "\n",
    "# Second subplot\n",
    "ax = axes[1]\n",
    "ax.axhline(y=w2_LB, linestyle='dashed', c='k', label='$f_{\\mathrm{sky},2}$')\n",
    "ax.plot(mean_filtered_full_sky[1]*mean_cls_filtered[1], label='\\\\textit{EE}')\n",
    "ax.set_xlim([2, lmax_LB])\n",
    "ax.set_ylim([0.4, 1.2])\n",
    "ax.set_xlabel(r'$\\ell$')\n",
    "ax.tick_params(axis='both', which='major')\n",
    "ax.tick_params(axis='both', which='minor')\n",
    "ax.set_xscale('linear')\n",
    "ax.set_yscale('linear')\n",
    "ax.legend(ncol=1, loc='upper right')\n",
    "# ax.set_title(\"LiteBIRD No foregrounds\", size=22)\n",
    "\n",
    "# Third subplot\n",
    "ax = axes[2]\n",
    "ax.axhline(y=w2_LB, linestyle='dashed', c='k', label='$f_{\\mathrm{sky},2}$')\n",
    "ax.plot(mean_filtered_full_sky[2]*mean_cls_filtered[2], label='\\\\textit{BB}')\n",
    "ax.set_xlim([2, lmax_LB])\n",
    "ax.set_ylim([0.4, 1.2])\n",
    "ax.set_xlabel(r'$\\ell$')\n",
    "ax.tick_params(axis='both', which='major')\n",
    "ax.tick_params(axis='both', which='minor')\n",
    "ax.set_xscale('linear')\n",
    "ax.set_yscale('linear')\n",
    "ax.legend(ncol=1, loc='upper right')\n",
    "# ax.set_title(\"Planck + LiteBIRD No foregrounds\", size=22)\n",
    "plt.tight_layout()\n",
    "plt.savefig(f'{directory_plots}/Harmonic_filtering_LiteBIRD_no_fg.pdf')"
   ]
  }
 ],
 "metadata": {
  "kernelspec": {
   "display_name": "Python 3 (ipykernel)",
   "language": "python",
   "name": "python3"
  },
  "language_info": {
   "codemirror_mode": {
    "name": "ipython",
    "version": 3
   },
   "file_extension": ".py",
   "mimetype": "text/x-python",
   "name": "python",
   "nbconvert_exporter": "python",
   "pygments_lexer": "ipython3",
   "version": "3.10.12"
  }
 },
 "nbformat": 4,
 "nbformat_minor": 5
}
